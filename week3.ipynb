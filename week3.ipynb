{
 "cells": [
  {
   "cell_type": "markdown",
   "metadata": {},
   "source": [
    "### Practice Problem 5: RCH Industries' Differentiation"
   ]
  },
  {
   "cell_type": "code",
   "execution_count": 1,
   "metadata": {
    "collapsed": true
   },
   "outputs": [],
   "source": [
    "from ortools.linear_solver import pywraplp\n",
    "solver = pywraplp.Solver('factory', pywraplp.Solver.CBC_MIXED_INTEGER_PROGRAMMING)"
   ]
  },
  {
   "cell_type": "code",
   "execution_count": 2,
   "metadata": {},
   "outputs": [
    {
     "name": "stdout",
     "output_type": "stream",
     "text": [
      "5 plants\n",
      "2 xds\n",
      "5 dcs\n"
     ]
    }
   ],
   "source": [
    "stylish_p_to_xd_transportation_cost_coef = [[30,50], [23,66], [35,14], [70,12], [65,70]]\n",
    "leisure_p_to_xd_transportation_cost_coef = [[33,55], [25,73], [39,15], [77,13], [12,14]]\n",
    "\n",
    "stylish_xd_to_dc_transportation_cost_coef = [[12,25,22,40,41], [65,22,23,12,15]]\n",
    "leisure_xd_to_dc_transportation_cost_coef = [[13,28,24,44,45], [72,24,25,13,17]]\n",
    "\n",
    "stylish_demand = [130,45,70,100,5]\n",
    "leisure_demand = [15,45,40,100,175]\n",
    "\n",
    "max_stylish_demand = sum(stylish_demand)\n",
    "max_leisure_demand = sum(leisure_demand)\n",
    "\n",
    "plant_capacity_stylish = [150, 300, 90, 140, 220]\n",
    "plant_capacity_leisure = [200, 300, 70,  30,  220]\n",
    "plant_capacity_combined = [200, 300, 666, 666, 666]\n",
    "\n",
    "# for question 2\n",
    "plant_capacity_combined = [200, 300, 100, 150, 220]\n",
    "\n",
    "\n",
    "n_plants = len(plant_capacity_combined)\n",
    "n_xds = len(stylish_p_to_xd_transportation_cost_coef[0])\n",
    "n_dcs = len(stylish_demand)\n",
    "\n",
    "print(n_plants, 'plants')\n",
    "print(n_xds, 'xds')\n",
    "print(n_dcs, 'dcs')"
   ]
  },
  {
   "cell_type": "code",
   "execution_count": 3,
   "metadata": {
    "collapsed": true
   },
   "outputs": [],
   "source": [
    "F_stylish_p_to_xd = {}\n",
    "for p in range(n_plants):\n",
    "    for xd in range(n_xds):\n",
    "        F_stylish_p_to_xd[(p,xd)] = solver.IntVar(0, max_stylish_demand,\n",
    "                                                 'f_stl_p{p}_xd{xd}'.format(p=p,xd=xd))\n",
    "        \n",
    "F_leisure_p_to_xd = {}\n",
    "for p in range(n_plants):\n",
    "    for xd in range(n_xds):\n",
    "        F_leisure_p_to_xd[(p,xd)] = solver.IntVar(0, max_leisure_demand,\n",
    "                                                 'f_lsr_p{p}_xd{xd}'.format(p=p,xd=xd))\n",
    "        \n",
    "F_stylish_xd_to_dc = {}\n",
    "for xd in range(n_xds):\n",
    "    for dc in range(n_dcs):\n",
    "        F_stylish_xd_to_dc[(xd,dc)] = solver.IntVar(0, max_stylish_demand,\n",
    "                                                 'f_stl_xd{xd}_dc{dc}'.format(dc=dc,xd=xd))\n",
    "        \n",
    "F_leisure_xd_to_dc = {}\n",
    "for xd in range(n_xds):\n",
    "    for dc in range(n_dcs):\n",
    "        F_leisure_xd_to_dc[(xd,dc)] = solver.IntVar(0, max_leisure_demand,\n",
    "                                                 'f_lsr_xd{xd}_dc{dc}'.format(dc=dc,xd=xd))\n"
   ]
  },
  {
   "cell_type": "code",
   "execution_count": 4,
   "metadata": {
    "collapsed": true
   },
   "outputs": [],
   "source": [
    "### production costs \n",
    "\n",
    "# THERE AREN'T ANY\n"
   ]
  },
  {
   "cell_type": "code",
   "execution_count": 5,
   "metadata": {
    "collapsed": true
   },
   "outputs": [],
   "source": [
    "#### transportation costs #####\n",
    "\n",
    "## from Plants to XDs\n",
    "# stylish \n",
    "stylish_p_to_xd_transportation_cost = [stylish_p_to_xd_transportation_cost_coef[p][xd]*\\\n",
    "                                       F_stylish_p_to_xd[(p, xd)]\\\n",
    "                                       for p in range(n_plants)\\\n",
    "                                       for xd in range(n_xds)]\n",
    "\n",
    "# leisure\n",
    "leisure_p_to_xd_transportation_cost = [leisure_p_to_xd_transportation_cost_coef[p][xd]*\\\n",
    "                                       F_leisure_p_to_xd[(p, xd)]\\\n",
    "                                       for p in range(n_plants)\\\n",
    "                                       for xd in range(n_xds)]\n",
    "\n",
    "## from XDs to DCs\n",
    "# stylish \n",
    "stylish_xd_to_dc_transportation_cost = [stylish_xd_to_dc_transportation_cost_coef[xd][dc]*\\\n",
    "                                       F_stylish_xd_to_dc[(xd, dc)]\\\n",
    "                                       for xd in range(n_xds)\\\n",
    "                                       for dc in range(n_dcs)]\n",
    "\n",
    "# leisure\n",
    "leisure_xd_to_dc_transportation_cost = [leisure_xd_to_dc_transportation_cost_coef[xd][dc]*\\\n",
    "                                       F_leisure_xd_to_dc[(xd, dc)]\\\n",
    "                                       for xd in range(n_xds)\\\n",
    "                                       for dc in range(n_dcs)]\n",
    "\n"
   ]
  },
  {
   "cell_type": "code",
   "execution_count": 6,
   "metadata": {
    "collapsed": true
   },
   "outputs": [],
   "source": [
    "# capacity Constraints\n",
    "\n",
    "# flow out of the factory cannot exceed capacity\n",
    "# stylish\n",
    "#for p in range(n_plants):\n",
    "#    solver.Add(solver.Sum([F_stylish_p_to_xd[(p,xd)] for xd in range(n_xds)])\\\n",
    "#               <= plant_capacity_stylish[p])\n",
    "# commented for Q2\n",
    "\n",
    "\n",
    "# leisure\n",
    "#for p in range(n_plants):\n",
    "#    solver.Add(solver.Sum([F_leisure_p_to_xd[(p,xd)] for xd in range(n_xds)])\\\n",
    "#               <= plant_capacity_leisure[p])\n",
    "# commented for Q2\n",
    "\n",
    "\n",
    "\n",
    "# combined\n",
    "for p in range(n_plants):\n",
    "    solver.Add(solver.Sum([F_stylish_p_to_xd[(p,xd)]+F_leisure_p_to_xd[(p,xd)]\\\n",
    "                           for xd in range(n_xds)])\\\n",
    "               <= plant_capacity_combined[p])\n",
    "    \n",
    "    \n"
   ]
  },
  {
   "cell_type": "code",
   "execution_count": 7,
   "metadata": {
    "collapsed": true
   },
   "outputs": [],
   "source": [
    "# Question 3 constraints\n",
    "# least 10 units of each style needs to be produced in every factory\n",
    "k = 10\n",
    "\n",
    "# stylish\n",
    "for p in range(n_plants):\n",
    "    solver.Add(solver.Sum([F_stylish_p_to_xd[(p,xd)] for xd in range(n_xds)])\\\n",
    "               >= k)\n",
    "\n",
    "\n",
    "# leisure\n",
    "for p in range(n_plants):\n",
    "    solver.Add(solver.Sum([F_leisure_p_to_xd[(p,xd)] for xd in range(n_xds)])\\\n",
    "               >= k)\n"
   ]
  },
  {
   "cell_type": "code",
   "execution_count": 8,
   "metadata": {
    "collapsed": true
   },
   "outputs": [],
   "source": [
    "### Demand constraints ###\n",
    "\n",
    "#the flow into DCs must match their demands \n",
    "#stylish \n",
    "for dc in range(n_dcs):\n",
    "    solver.Add(solver.Sum([F_stylish_xd_to_dc[(xd, dc)]\\\n",
    "                for xd in range(n_xds)]) == stylish_demand[dc])\n",
    "    \n",
    "#leisure \n",
    "for dc in range(n_dcs):\n",
    "    solver.Add(solver.Sum([F_leisure_xd_to_dc[(xd, dc)]\\\n",
    "                for xd in range(n_xds)]) == leisure_demand[dc])"
   ]
  },
  {
   "cell_type": "code",
   "execution_count": 9,
   "metadata": {
    "collapsed": true
   },
   "outputs": [],
   "source": [
    "## balance of flow constraints \n",
    "# what comes in to a XD must leave the DC\n",
    "\n",
    "#sty\n",
    "for xd in range(n_xds):\n",
    "    f_in = solver.Sum([F_stylish_p_to_xd[(p, xd)] for p in range(n_plants)])\n",
    "    f_out = solver.Sum([F_stylish_xd_to_dc[(xd, dc)] for dc in range(n_dcs)])\n",
    "    solver.Add(f_in == f_out)\n",
    "    \n",
    "#leisure\n",
    "for xd in range(n_xds):\n",
    "    f_in = solver.Sum([F_leisure_p_to_xd[(p, xd)] for p in range(n_plants)])\n",
    "    f_out = solver.Sum([F_leisure_xd_to_dc[(xd, dc)] for dc in range(n_dcs)])\n",
    "    solver.Add(f_in == f_out)"
   ]
  },
  {
   "cell_type": "code",
   "execution_count": 10,
   "metadata": {
    "collapsed": true
   },
   "outputs": [],
   "source": [
    "### total costs ###\n",
    "\n",
    "total_cost = solver.Sum([solver.Sum(stylish_p_to_xd_transportation_cost),\n",
    "                         solver.Sum(leisure_p_to_xd_transportation_cost),\n",
    "                         solver.Sum(stylish_xd_to_dc_transportation_cost),\n",
    "                         solver.Sum(leisure_xd_to_dc_transportation_cost)])\n",
    "                         "
   ]
  },
  {
   "cell_type": "code",
   "execution_count": 11,
   "metadata": {},
   "outputs": [
    {
     "name": "stdout",
     "output_type": "stream",
     "text": [
      "done\n"
     ]
    }
   ],
   "source": [
    "### Ths solution finder\n",
    "objective = solver.Minimize(total_cost)\n",
    "solver.Solve()\n",
    "print('done')\n"
   ]
  },
  {
   "cell_type": "code",
   "execution_count": 12,
   "metadata": {
    "scrolled": false
   },
   "outputs": [
    {
     "name": "stdout",
     "output_type": "stream",
     "text": [
      "plant 0 - xd 0 style flow: 10.0\n",
      "plant 0 - xd 1 style flow: 0.0\n",
      "plant 1 - xd 0 style flow: 190.0\n",
      "plant 1 - xd 1 style flow: 0.0\n",
      "plant 2 - xd 0 style flow: 0.0\n",
      "plant 2 - xd 1 style flow: 10.0\n",
      "plant 3 - xd 0 style flow: 0.0\n",
      "plant 3 - xd 1 style flow: 130.0\n",
      "plant 4 - xd 0 style flow: 10.0\n",
      "plant 4 - xd 1 style flow: 0.0\n",
      "xd 0 - dc 0 style flow: 130.0\n",
      "xd 0 - dc 1 style flow: 10.0\n",
      "xd 0 - dc 2 style flow: 70.0\n",
      "xd 0 - dc 3 style flow: 0.0\n",
      "xd 0 - dc 4 style flow: 0.0\n",
      "xd 1 - dc 0 style flow: 0.0\n",
      "xd 1 - dc 1 style flow: 35.0\n",
      "xd 1 - dc 2 style flow: 0.0\n",
      "xd 1 - dc 3 style flow: 100.0\n",
      "xd 1 - dc 4 style flow: 5.0\n",
      "plant 0 - xd 0 leisure flow: 10.0\n",
      "plant 0 - xd 1 leisure flow: 0.0\n",
      "plant 1 - xd 0 leisure flow: 45.0\n",
      "plant 1 - xd 1 leisure flow: 0.0\n",
      "plant 2 - xd 0 leisure flow: 0.0\n",
      "plant 2 - xd 1 leisure flow: 90.0\n",
      "plant 3 - xd 0 leisure flow: 0.0\n",
      "plant 3 - xd 1 leisure flow: 20.0\n",
      "plant 4 - xd 0 leisure flow: 0.0\n",
      "plant 4 - xd 1 leisure flow: 210.0\n",
      "xd 0 - dc 0 leisure flow: 15.0\n",
      "xd 0 - dc 1 leisure flow: 0.0\n",
      "xd 0 - dc 2 leisure flow: 40.0\n",
      "xd 0 - dc 3 leisure flow: 0.0\n",
      "xd 0 - dc 4 leisure flow: 0.0\n",
      "xd 1 - dc 0 leisure flow: 0.0\n",
      "xd 1 - dc 1 leisure flow: 45.0\n",
      "xd 1 - dc 2 leisure flow: 0.0\n",
      "xd 1 - dc 3 leisure flow: 100.0\n",
      "xd 1 - dc 4 leisure flow: 175.0\n",
      "\n",
      "\n",
      "total cost:  24930.0\n"
     ]
    }
   ],
   "source": [
    "for p in range(n_plants):\n",
    "    for xd in range(n_xds):\n",
    "        print('plant',p, '- xd', xd, 'style flow:', F_stylish_p_to_xd[(p, xd)].SolutionValue())\n",
    "        \n",
    "\n",
    "for xd in range(n_xds):\n",
    "    for dc in range(n_dcs):\n",
    "        print('xd',xd, '- dc', dc, 'style flow:', F_stylish_xd_to_dc[(xd, dc)].SolutionValue())\n",
    "\n",
    "        \n",
    "for p in range(n_plants):\n",
    "    for xd in range(n_xds):\n",
    "        print('plant',p, '- xd', xd, 'leisure flow:', F_leisure_p_to_xd[(p, xd)].SolutionValue())\n",
    "        \n",
    "\n",
    "for xd in range(n_xds):\n",
    "    for dc in range(n_dcs):\n",
    "        print('xd',xd, '- dc', dc, 'leisure flow:', F_leisure_xd_to_dc[(xd, dc)].SolutionValue())\n",
    "\n",
    "print('\\n')\n",
    "print('total cost: ', solver.Objective().Value())\n"
   ]
  },
  {
   "cell_type": "code",
   "execution_count": null,
   "metadata": {},
   "outputs": [],
   "source": []
  },
  {
   "cell_type": "code",
   "execution_count": null,
   "metadata": {
    "collapsed": true
   },
   "outputs": [],
   "source": []
  }
 ],
 "metadata": {
  "kernelspec": {
   "display_name": "Python [anaconda3]",
   "language": "python",
   "name": "Python [anaconda3]"
  },
  "language_info": {
   "codemirror_mode": {
    "name": "ipython",
    "version": 3
   },
   "file_extension": ".py",
   "mimetype": "text/x-python",
   "name": "python",
   "nbconvert_exporter": "python",
   "pygments_lexer": "ipython3",
   "version": "3.5.3"
  }
 },
 "nbformat": 4,
 "nbformat_minor": 1
}
