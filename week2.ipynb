{
 "cells": [
  {
   "cell_type": "markdown",
   "metadata": {},
   "source": [
    "### Practice Problem 3: Cocup\n"
   ]
  },
  {
   "cell_type": "code",
   "execution_count": 42,
   "metadata": {},
   "outputs": [
    {
     "name": "stdout",
     "output_type": "stream",
     "text": [
      "done \n",
      "\n",
      "objective value 166225.0\n",
      "\n",
      "\n",
      "plant 0 - dc 0  flow: 96.0\n",
      "plant 0 - dc 1  flow: 586.0\n",
      "plant 0 - dc 2  flow: 346.0\n",
      "plant 0 - dc 3  flow: 210.0\n",
      "plant 0 - dc 4  flow: 0.0\n",
      "plant 1 - dc 0  flow: 0.0\n",
      "plant 1 - dc 1  flow: 0.0\n",
      "plant 1 - dc 2  flow: 0.0\n",
      "plant 1 - dc 3  flow: 0.0\n",
      "plant 1 - dc 4  flow: 0.0\n",
      "\n",
      "dc 0 - so 0  flow: 0.0\n",
      "dc 0 - so 1  flow: 96.0\n",
      "dc 0 - so 2  flow: 0.0\n",
      "dc 0 - so 3  flow: 0.0\n",
      "dc 0 - so 4  flow: 0.0\n",
      "dc 0 - so 5  flow: 0.0\n",
      "dc 0 - so 6  flow: 0.0\n",
      "dc 0 - so 7  flow: 0.0\n",
      "dc 1 - so 0  flow: 121.0\n",
      "dc 1 - so 1  flow: 0.0\n",
      "dc 1 - so 2  flow: 0.0\n",
      "dc 1 - so 3  flow: 175.0\n",
      "dc 1 - so 4  flow: 0.0\n",
      "dc 1 - so 5  flow: 130.0\n",
      "dc 1 - so 6  flow: 0.0\n",
      "dc 1 - so 7  flow: 160.0\n",
      "dc 2 - so 0  flow: 0.0\n",
      "dc 2 - so 1  flow: 0.0\n",
      "dc 2 - so 2  flow: 166.0\n",
      "dc 2 - so 3  flow: 0.0\n",
      "dc 2 - so 4  flow: 0.0\n",
      "dc 2 - so 5  flow: 0.0\n",
      "dc 2 - so 6  flow: 180.0\n",
      "dc 2 - so 7  flow: 0.0\n",
      "dc 3 - so 0  flow: 0.0\n",
      "dc 3 - so 1  flow: 0.0\n",
      "dc 3 - so 2  flow: 0.0\n",
      "dc 3 - so 3  flow: 0.0\n",
      "dc 3 - so 4  flow: 210.0\n",
      "dc 3 - so 5  flow: 0.0\n",
      "dc 3 - so 6  flow: 0.0\n",
      "dc 3 - so 7  flow: 0.0\n",
      "dc 4 - so 0  flow: 0.0\n",
      "dc 4 - so 1  flow: 0.0\n",
      "dc 4 - so 2  flow: 0.0\n",
      "dc 4 - so 3  flow: 0.0\n",
      "dc 4 - so 4  flow: 0.0\n",
      "dc 4 - so 5  flow: 0.0\n",
      "dc 4 - so 6  flow: 0.0\n",
      "dc 4 - so 7  flow: 0.0\n",
      "\n",
      "\n",
      "total cost:  166225.0\n"
     ]
    }
   ],
   "source": [
    "from ortools.linear_solver import pywraplp\n",
    "solver = pywraplp.Solver('solve', \n",
    "                        pywraplp.Solver.CBC_MIXED_INTEGER_PROGRAMMING)\n",
    "\n",
    "#so_demand = [110, 80, 155, 175, 210, 130, 180, 160]\n",
    "so_demand = [121, 96, 166, 175, 210, 130, 180, 160]\n",
    "#so_demand = [132, 96, 186, 175, 210, 130, 180, 160]\n",
    "\n",
    "M = 5*sum(so_demand)\n",
    "plant_capacity = [1250, 200]\n",
    "p_unit_cost = [10, 50]\n",
    "#(second plant is the contractrctor)\n",
    "\n",
    "dc_fixed_costs_ = [100, 100, 80, 70, 60]\n",
    "dc_unit_costs_ = [10, 10, 25, 30, 30]\n",
    "\n",
    "\n",
    "distance_dc_to_so = [[62,55,114,106,51,76,122,80],\n",
    "                     [63,92,90,50,88,47,136,47],\n",
    "                     [76,85,56,65,129,40,89,100],\n",
    "                     [42,128,74,70,45,56,81,131],\n",
    "                     [77,135,118,59,124,93,41,94]]\n",
    "\n",
    "distance_p_to_dc = [[77,48,41,57,94],\n",
    "                    [54,33,21,94,44]]\n",
    "\n",
    "#distance_p_to_dc = [[77,48,M,M,M],\n",
    "#                    [54,33,M,M,M]]\n",
    "#(second plant is the contractor)\n",
    "\n",
    "transport_costs = 1\n",
    "\n",
    "\n",
    "n_plants = len(plant_capacity)\n",
    "n_dcs = len(dc_fixed_costs_)\n",
    "n_sos = len(so_demand)\n",
    "\n",
    "\n",
    "plant_boolean = [solver.IntVar(0,1, 'p{p}'.format(p=p)) for p in range(n_plants)]\n",
    "dc_boolean = [solver.IntVar(0,1, 'dc{dc}'.format(dc=dc)) for dc in range(n_dcs)]\n",
    "\n",
    "\n",
    "\n",
    "F_p_to_dc = {}\n",
    "for p in range(n_plants):\n",
    "    for dc in range(n_dcs):\n",
    "        F_p_to_dc[(p, dc)] = solver.IntVar(0, plant_capacity[p],\n",
    "                                           'f_p{p}_dc{dc}'.format(p=p, dc=dc))\n",
    "\n",
    "F_dc_to_so={}\n",
    "for dc in range(n_dcs):\n",
    "    for so in range(n_sos):\n",
    "        F_dc_to_so[(dc, so)] = solver.IntVar(0, so_demand[so],\n",
    "                                             'x_dc{dc}_so{so}'.format(dc=dc, so=so))#*cw_boolean[cw]\n",
    "\n",
    "\n",
    "####################\n",
    "### TRAVEL COSTS ###\n",
    "####################\n",
    "\n",
    "p_to_dc_travel_costs = []\n",
    "for p in range(n_plants):\n",
    "    for dc in range(n_dcs):\n",
    "        p_to_dc_travel_costs.append(F_p_to_dc[(p, dc)]*\\\n",
    "                                    distance_p_to_dc[p][dc]*transport_costs)\n",
    "\n",
    "dc_to_so_travel_costs = []\n",
    "for dc in range(n_dcs):\n",
    "    for so in range(n_sos):\n",
    "        dc_to_so_travel_costs.append(F_dc_to_so[(dc, so)]*\\\n",
    "                                     distance_dc_to_so[dc][so]*transport_costs)\n",
    "\n",
    "########################\n",
    "# plant  costs #\n",
    "########################\n",
    "# flow out times variable costs\n",
    "plant_variable_costs = [F_p_to_dc[(p, dc)]*p_unit_cost[p] \\\n",
    "                                   for p in range(n_plants) \\\n",
    "                                   for dc in range(n_dcs)]\n",
    "\n",
    "\n",
    "\n",
    "########################\n",
    "# dc variable costs #\n",
    "########################\n",
    "# flow out times variable costs\n",
    "dc_variable_costs = [F_dc_to_so[(dc, so)]*dc_unit_costs_[dc] \\\n",
    "                                   for dc in range(n_dcs) \\\n",
    "                                   for so in range(n_sos)]\n",
    "\n",
    "dc_fixed_costs = [dc_boolean[dc]*dc_fixed_costs_[dc] for dc in range(n_dcs)]\n",
    "\n",
    "\n",
    "#################\n",
    "## CONSTRAINTS ##\n",
    "#################\n",
    "\n",
    "## balance of flows at the DC \n",
    "for dc in range(n_dcs):\n",
    "    f_in = solver.Sum([F_p_to_dc[(p, dc)] for p in range(n_plants)])\n",
    "    f_out = solver.Sum([F_dc_to_so[(dc, so)] for so in range(n_sos)])\n",
    "    solver.Add(f_in == f_out)\n",
    "                       \n",
    "\n",
    "## every SO gets what they want\n",
    "for so in range(n_sos):\n",
    "    delivery = solver.Sum([F_dc_to_so[(dc, so)] for dc in range(n_dcs)])\n",
    "    solver.Add(delivery == so_demand[so])\n",
    "    \n",
    "\n",
    "\n",
    "## production is limited by capacity\n",
    "for p in range(n_plants):\n",
    "    production = solver.Sum([F_p_to_dc[(p, dc)] for dc in range(n_dcs)])\n",
    "    solver.Add(production <= plant_capacity[p])\n",
    "\n",
    "\n",
    "# boolean logic constraints    \n",
    "for dc in range(n_dcs):\n",
    "    solver.Add(solver.Sum([F_dc_to_so[(dc, so)] for so in range(n_sos)]) - dc_boolean[dc]*M <= 0)\n",
    "    \n",
    "    \n",
    "\n",
    "\n",
    "total_cost = solver.Sum([solver.Sum(dc_fixed_costs),\n",
    "                         solver.Sum(dc_variable_costs),\n",
    "                         solver.Sum(plant_variable_costs),\n",
    "                         solver.Sum(p_to_dc_travel_costs),\n",
    "                         solver.Sum(dc_to_so_travel_costs)])\n",
    "                         \n",
    "\n",
    "objective = solver.Minimize(total_cost)\n",
    "solver.Solve()\n",
    "print('done \\n')\n",
    "\n",
    "#### TODO: ADD CONSTRAINTS RELEVANT TO QUESTIONS (ABOUT ONLY SOME OF THE DCs being operational)\n",
    "\n",
    "\n",
    "\n",
    "### TODO: answer questios\n",
    "\n",
    "print('objective value', solver.Objective().Value())\n",
    "\n",
    "print('\\n')\n",
    "\n",
    "for p in range(n_plants):\n",
    "    for dc in range(n_dcs):\n",
    "        print('plant',p, '- dc', dc, ' flow:', F_p_to_dc[(p, dc)].SolutionValue())\n",
    "        \n",
    "print('')\n",
    "for dc in range(n_dcs):\n",
    "    for so in range(n_sos):\n",
    "        print('dc',dc, '- so', so, ' flow:', F_dc_to_so[(dc, so)].SolutionValue())\n",
    "\n",
    "print('\\n')\n",
    "print('total cost: ', solver.Objective().Value())\n"
   ]
  },
  {
   "cell_type": "code",
   "execution_count": 5,
   "metadata": {},
   "outputs": [
    {
     "data": {
      "text/plain": [
       "160550.0"
      ]
     },
     "execution_count": 5,
     "metadata": {},
     "output_type": "execute_result"
    }
   ],
   "source": []
  },
  {
   "cell_type": "code",
   "execution_count": null,
   "metadata": {
    "collapsed": true
   },
   "outputs": [],
   "source": []
  },
  {
   "cell_type": "code",
   "execution_count": null,
   "metadata": {
    "collapsed": true
   },
   "outputs": [],
   "source": []
  },
  {
   "cell_type": "code",
   "execution_count": null,
   "metadata": {
    "collapsed": true
   },
   "outputs": [],
   "source": []
  },
  {
   "cell_type": "code",
   "execution_count": null,
   "metadata": {
    "collapsed": true
   },
   "outputs": [],
   "source": []
  },
  {
   "cell_type": "code",
   "execution_count": null,
   "metadata": {
    "collapsed": true
   },
   "outputs": [],
   "source": []
  },
  {
   "cell_type": "markdown",
   "metadata": {},
   "source": [
    "### Practice Problem 5: RCH Industries' Differentiation"
   ]
  },
  {
   "cell_type": "code",
   "execution_count": null,
   "metadata": {
    "collapsed": true
   },
   "outputs": [],
   "source": [
    "from ortools.linear_solver import pywraplp\n",
    "solver = pywraplp.Solver('factory', pywraplp.Solver.CBC_MIXED_INTEGER_PROGRAMMING)"
   ]
  },
  {
   "cell_type": "code",
   "execution_count": null,
   "metadata": {
    "collapsed": true
   },
   "outputs": [],
   "source": [
    "stylish_p_to_xd_transportation_cost_coef = [[30,50], [23,66], [35,14], [70,12], [65,70]]\n",
    "leisure_p_to_xd_transportation_cost_coef = [[33,55], [25,73], [39,15], [77,13], [12,14]]\n",
    "\n",
    "stylish_xd_to_dc_transportation_cost_coef = [[12,25,22,40,41], [65,22,23,12,15]]\n",
    "leisure_xd_to_dc_transportation_cost_coef = [[13,28,24,44,45], [72,24,25,13,17]]\n",
    "\n",
    "stylish_demand = [130,45,70,100,5]\n",
    "leisure_demand = [15,45,40,100,175]\n",
    "\n",
    "max_stylish_demand = sum(stylish_demand)\n",
    "max_leisure_demand = sum(leisure_demand)\n",
    "\n",
    "plant_capacity_stylish = [150, 300, 90, 140, 220]\n",
    "plant_capacity_leisure = [200, 300, 70,  30,  220]\n",
    "plant_capacity_combined = [200, 300, 666, 666, 666]\n",
    "\n",
    "# for question 2\n",
    "plant_capacity_combined = [200, 300, 100, 150, 220]\n",
    "\n",
    "\n",
    "n_plants = len(plant_capacity_combined)\n",
    "n_xds = len(stylish_p_to_xd_transportation_cost_coef[0])\n",
    "n_dcs = len(stylish_demand)\n",
    "\n",
    "print(n_plants, 'plants')\n",
    "print(n_xds, 'xds')\n",
    "print(n_dcs, 'dcs')"
   ]
  },
  {
   "cell_type": "code",
   "execution_count": null,
   "metadata": {
    "collapsed": true
   },
   "outputs": [],
   "source": [
    "F_stylish_p_to_xd = {}\n",
    "for p in range(n_plants):\n",
    "    for xd in range(n_xds):\n",
    "        F_stylish_p_to_xd[(p,xd)] = solver.IntVar(0, max_stylish_demand,\n",
    "                                                 'f_stl_p{p}_xd{xd}'.format(p=p,xd=xd))\n",
    "        \n",
    "F_leisure_p_to_xd = {}\n",
    "for p in range(n_plants):\n",
    "    for xd in range(n_xds):\n",
    "        F_leisure_p_to_xd[(p,xd)] = solver.IntVar(0, max_leisure_demand,\n",
    "                                                 'f_lsr_p{p}_xd{xd}'.format(p=p,xd=xd))\n",
    "        \n",
    "F_stylish_xd_to_dc = {}\n",
    "for xd in range(n_xds):\n",
    "    for dc in range(n_dcs):\n",
    "        F_stylish_xd_to_dc[(xd,dc)] = solver.IntVar(0, max_stylish_demand,\n",
    "                                                 'f_stl_xd{xd}_dc{dc}'.format(dc=dc,xd=xd))\n",
    "        \n",
    "F_leisure_xd_to_dc = {}\n",
    "for xd in range(n_xds):\n",
    "    for dc in range(n_dcs):\n",
    "        F_leisure_xd_to_dc[(xd,dc)] = solver.IntVar(0, max_leisure_demand,\n",
    "                                                 'f_lsr_xd{xd}_dc{dc}'.format(dc=dc,xd=xd))\n"
   ]
  },
  {
   "cell_type": "code",
   "execution_count": null,
   "metadata": {
    "collapsed": true
   },
   "outputs": [],
   "source": [
    "### production costs \n",
    "\n",
    "# THERE AREN'T ANY\n"
   ]
  },
  {
   "cell_type": "code",
   "execution_count": null,
   "metadata": {
    "collapsed": true
   },
   "outputs": [],
   "source": [
    "#### transportation costs #####\n",
    "\n",
    "## from Plants to XDs\n",
    "# stylish \n",
    "stylish_p_to_xd_transportation_cost = [stylish_p_to_xd_transportation_cost_coef[p][xd]*\\\n",
    "                                       F_stylish_p_to_xd[(p, xd)]\\\n",
    "                                       for p in range(n_plants)\\\n",
    "                                       for xd in range(n_xds)]\n",
    "\n",
    "# leisure\n",
    "leisure_p_to_xd_transportation_cost = [leisure_p_to_xd_transportation_cost_coef[p][xd]*\\\n",
    "                                       F_leisure_p_to_xd[(p, xd)]\\\n",
    "                                       for p in range(n_plants)\\\n",
    "                                       for xd in range(n_xds)]\n",
    "\n",
    "## from XDs to DCs\n",
    "# stylish \n",
    "stylish_xd_to_dc_transportation_cost = [stylish_xd_to_dc_transportation_cost_coef[xd][dc]*\\\n",
    "                                       F_stylish_xd_to_dc[(xd, dc)]\\\n",
    "                                       for xd in range(n_xds)\\\n",
    "                                       for dc in range(n_dcs)]\n",
    "\n",
    "# leisure\n",
    "leisure_xd_to_dc_transportation_cost = [leisure_xd_to_dc_transportation_cost_coef[xd][dc]*\\\n",
    "                                       F_leisure_xd_to_dc[(xd, dc)]\\\n",
    "                                       for xd in range(n_xds)\\\n",
    "                                       for dc in range(n_dcs)]\n",
    "\n"
   ]
  },
  {
   "cell_type": "code",
   "execution_count": null,
   "metadata": {
    "collapsed": true
   },
   "outputs": [],
   "source": [
    "# capacity Constraints\n",
    "\n",
    "# flow out of the factory cannot exceed capacity\n",
    "# stylish\n",
    "#for p in range(n_plants):\n",
    "#    solver.Add(solver.Sum([F_stylish_p_to_xd[(p,xd)] for xd in range(n_xds)])\\\n",
    "#               <= plant_capacity_stylish[p])\n",
    "# commented for Q2\n",
    "\n",
    "\n",
    "# leisure\n",
    "#for p in range(n_plants):\n",
    "#    solver.Add(solver.Sum([F_leisure_p_to_xd[(p,xd)] for xd in range(n_xds)])\\\n",
    "#               <= plant_capacity_leisure[p])\n",
    "# commented for Q2\n",
    "\n",
    "\n",
    "\n",
    "# combined\n",
    "for p in range(n_plants):\n",
    "    solver.Add(solver.Sum([F_stylish_p_to_xd[(p,xd)]+F_leisure_p_to_xd[(p,xd)]\\\n",
    "                           for xd in range(n_xds)])\\\n",
    "               <= plant_capacity_combined[p])\n",
    "    \n",
    "    \n"
   ]
  },
  {
   "cell_type": "code",
   "execution_count": null,
   "metadata": {
    "collapsed": true
   },
   "outputs": [],
   "source": [
    "# Question 3 constraints\n",
    "# least 10 units of each style needs to be produced in every factory\n",
    "k = 10\n",
    "\n",
    "# stylish\n",
    "for p in range(n_plants):\n",
    "    solver.Add(solver.Sum([F_stylish_p_to_xd[(p,xd)] for xd in range(n_xds)])\\\n",
    "               >= k)\n",
    "\n",
    "\n",
    "# leisure\n",
    "for p in range(n_plants):\n",
    "    solver.Add(solver.Sum([F_leisure_p_to_xd[(p,xd)] for xd in range(n_xds)])\\\n",
    "               >= k)\n"
   ]
  },
  {
   "cell_type": "code",
   "execution_count": null,
   "metadata": {
    "collapsed": true
   },
   "outputs": [],
   "source": [
    "### Demand constraints ###\n",
    "\n",
    "#the flow into DCs must match their demands \n",
    "#stylish \n",
    "for dc in range(n_dcs):\n",
    "    solver.Add(solver.Sum([F_stylish_xd_to_dc[(xd, dc)]\\\n",
    "                for xd in range(n_xds)]) == stylish_demand[dc])\n",
    "    \n",
    "#leisure \n",
    "for dc in range(n_dcs):\n",
    "    solver.Add(solver.Sum([F_leisure_xd_to_dc[(xd, dc)]\\\n",
    "                for xd in range(n_xds)]) == leisure_demand[dc])"
   ]
  },
  {
   "cell_type": "code",
   "execution_count": null,
   "metadata": {
    "collapsed": true
   },
   "outputs": [],
   "source": [
    "## balance of flow constraints \n",
    "# what comes in to a XD must leave the DC\n",
    "\n",
    "#sty\n",
    "for xd in range(n_xds):\n",
    "    f_in = solver.Sum([F_stylish_p_to_xd[(p, xd)] for p in range(n_plants)])\n",
    "    f_out = solver.Sum([F_stylish_xd_to_dc[(xd, dc)] for dc in range(n_dcs)])\n",
    "    solver.Add(f_in == f_out)\n",
    "    \n",
    "#leisure\n",
    "for xd in range(n_xds):\n",
    "    f_in = solver.Sum([F_leisure_p_to_xd[(p, xd)] for p in range(n_plants)])\n",
    "    f_out = solver.Sum([F_leisure_xd_to_dc[(xd, dc)] for dc in range(n_dcs)])\n",
    "    solver.Add(f_in == f_out)"
   ]
  },
  {
   "cell_type": "code",
   "execution_count": null,
   "metadata": {
    "collapsed": true
   },
   "outputs": [],
   "source": [
    "### total costs ###\n",
    "\n",
    "total_cost = solver.Sum([solver.Sum(stylish_p_to_xd_transportation_cost),\n",
    "                         solver.Sum(leisure_p_to_xd_transportation_cost),\n",
    "                         solver.Sum(stylish_xd_to_dc_transportation_cost),\n",
    "                         solver.Sum(leisure_xd_to_dc_transportation_cost)])\n",
    "                         "
   ]
  },
  {
   "cell_type": "code",
   "execution_count": null,
   "metadata": {
    "collapsed": true
   },
   "outputs": [],
   "source": [
    "### Ths solution finder\n",
    "objective = solver.Minimize(total_cost)\n",
    "solver.Solve()\n",
    "print('done')\n"
   ]
  },
  {
   "cell_type": "code",
   "execution_count": null,
   "metadata": {
    "collapsed": true,
    "scrolled": false
   },
   "outputs": [],
   "source": [
    "for p in range(n_plants):\n",
    "    for xd in range(n_xds):\n",
    "        print('plant',p, '- xd', xd, 'style flow:', F_stylish_p_to_xd[(p, xd)].SolutionValue())\n",
    "        \n",
    "\n",
    "for xd in range(n_xds):\n",
    "    for dc in range(n_dcs):\n",
    "        print('xd',xd, '- dc', dc, 'style flow:', F_stylish_xd_to_dc[(xd, dc)].SolutionValue())\n",
    "\n",
    "        \n",
    "for p in range(n_plants):\n",
    "    for xd in range(n_xds):\n",
    "        print('plant',p, '- xd', xd, 'leisure flow:', F_leisure_p_to_xd[(p, xd)].SolutionValue())\n",
    "        \n",
    "\n",
    "for xd in range(n_xds):\n",
    "    for dc in range(n_dcs):\n",
    "        print('xd',xd, '- dc', dc, 'leisure flow:', F_leisure_xd_to_dc[(xd, dc)].SolutionValue())\n",
    "\n",
    "print('\\n')\n",
    "print('total cost: ', solver.Objective().Value())\n"
   ]
  },
  {
   "cell_type": "markdown",
   "metadata": {},
   "source": [
    "##  Problem 7"
   ]
  },
  {
   "cell_type": "code",
   "execution_count": null,
   "metadata": {
    "collapsed": true
   },
   "outputs": [],
   "source": [
    "from scipy.optimize import curve_fit\n",
    "import matplotlib.pyplot as plt\n",
    "\n",
    "def inventory_fun(transit, alpha, beta):\n",
    "    return(alpha * transit **beta)\n",
    "\n",
    "\n",
    "i = [718, 791, 1349, 1544, 1908, 2166, 1276, 1564, 287, 1614, \\\n",
    "     1830, 1969, 1028, 2088, 1588, 1149, 1612, 1352, 1934, \\\n",
    "     292, 786, 1606, 980, 1415, 394, 2017, 987, 1292, 1950, \\\n",
    "     396, 681, 1781, 1870, 1237, 1412, 1853, 1186, 2051, \\\n",
    "     1387, 1827, 1147, 1573, 589, 1392, 580, 1736, 1166, \\\n",
    "     1950, 1750, 1969, 1022, 2279, 1386, 1623, 808, 2296, \\\n",
    "     934, 1759, 246, 341, 1831, 1791, 2234, 1769, 703, \\\n",
    "     874, 1864, 1755, 1363, 1961, 1992, 1897, 2169, 847, 1393, \\\n",
    "     1941, 905, 1906, 1512, 2042, 633, 891, 1654, 1171, 1281, \\\n",
    "     2350, 1195, 2138, 217, 1409, 2064, 1737, 543, 1920, 1907, \\\n",
    "     491, 1948, 1204, 246, 1182, 889, 1432, 1559, 695, 1115, \\\n",
    "     455, 1278, 1056, 863, 227, 1621, 2037, 1461]\n",
    "\n",
    "\n",
    "t = [2318, 2136, 4232, 6097, 9820, 8883, 4398, 5637, 337, 5968, \\\n",
    "     7268, 9484, 3058, 8335, 5852, 4140, 6476, 4650, 6921, 146, \\\n",
    "     1814, 5765, 3396, 4999, 829, 8882, 2536, 5058, 8808, 757, \\\n",
    "     1718, 8757, 8755, 3963, 4985, 8082, 5070, 9677, 5417, 8103, \\\n",
    "     3343, 6090, 973, 4365, 874, 6402, 3734, 9180, 7218, 9911, 3186, \\\n",
    "     9896, 4418, 6866, 1972, 9888, 2154, 7078, 467, 482, 7991, 7694, \\\n",
    "     9562, 6534, 1379, 2791, 9645, 6928, 4393, 9163, 8033, 7655, \\\n",
    "     9889, 2633, 5130, 8133, 2760, 8833, 5456, 8473, 1477, 2516, \\\n",
    "     7507, 3655, 4066, 9726, 4547, 9211, 255, 5210, 9939, 6904, \\\n",
    "     1141, 7506, 9316, 817, 9896, 3517, 132, 3955, 2391, 5410, 5629, \\\n",
    "     2115, 3596, 782, 4537, 2855, 3225, 319, 6369, 8315, 4765]\n"
   ]
  },
  {
   "cell_type": "code",
   "execution_count": null,
   "metadata": {
    "collapsed": true
   },
   "outputs": [],
   "source": [
    "plt.plot(t, i, '.',\n",
    "         label='fit:')\n",
    "plt.show()\n",
    "\n",
    "popt, pcov = curve_fit(inventory_fun, t, i)"
   ]
  },
  {
   "cell_type": "code",
   "execution_count": null,
   "metadata": {
    "collapsed": true
   },
   "outputs": [],
   "source": [
    "popt"
   ]
  },
  {
   "cell_type": "code",
   "execution_count": null,
   "metadata": {
    "collapsed": true
   },
   "outputs": [],
   "source": [
    "pcov"
   ]
  },
  {
   "cell_type": "code",
   "execution_count": null,
   "metadata": {
    "collapsed": true
   },
   "outputs": [],
   "source": [
    "inventory_fun(alpha=popt[0], beta=popt[1], transit=20000)"
   ]
  },
  {
   "cell_type": "code",
   "execution_count": null,
   "metadata": {
    "collapsed": true
   },
   "outputs": [],
   "source": [
    "inventory_fun(alpha=popt[0], beta=popt[1], transit=10000) + inventory_fun(alpha=popt[0], beta=popt[1], transit=10000)"
   ]
  },
  {
   "cell_type": "code",
   "execution_count": null,
   "metadata": {
    "collapsed": true
   },
   "outputs": [],
   "source": []
  }
 ],
 "metadata": {
  "kernelspec": {
   "display_name": "Python 3",
   "language": "python",
   "name": "python3"
  },
  "language_info": {
   "codemirror_mode": {
    "name": "ipython",
    "version": 3
   },
   "file_extension": ".py",
   "mimetype": "text/x-python",
   "name": "python",
   "nbconvert_exporter": "python",
   "pygments_lexer": "ipython3",
   "version": "3.5.4"
  }
 },
 "nbformat": 4,
 "nbformat_minor": 1
}
