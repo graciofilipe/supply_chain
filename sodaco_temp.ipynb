{
 "cells": [
  {
   "cell_type": "markdown",
   "metadata": {},
   "source": [
    "## Practice Problem 2: Sodaco"
   ]
  },
  {
   "cell_type": "code",
   "execution_count": 8,
   "metadata": {},
   "outputs": [],
   "source": [
    "from ortools.linear_solver import pywraplp\n",
    "\n",
    "solver = pywraplp.Solver('SolveIntegerProblem',\n",
    "                           pywraplp.Solver.CBC_MIXED_INTEGER_PROGRAMMING)\n",
    "\n",
    "\n",
    "# part 6 only - optimal solution \n",
    "demand = [0, 3000, 3100, 3200, 3100, 2900, 2800, \n",
    "         2800, 2900, 2800, 3000]\n",
    "total_demand = sum(demand)\n",
    "M = total_demand*5\n",
    "n_t = len(demand)\n",
    "\n",
    "inventory_price = 0.1\n",
    "setup_price = 800\n",
    "\n",
    "production_amount = [solver.IntVar(0, total_demand,\n",
    "                                  'production_t{t}'.format(t=t)) \\\n",
    "                     for t in range(n_t)]\n",
    "\n",
    "inventory = [solver.IntVar(0, total_demand,\n",
    "                           'inventory_t{t}'.format(t=t)) \\\n",
    "            for t in range(n_t)]\n",
    "\n",
    "production_boolean = [solver.BoolVar('production_boolean_t{t}'.format(t=t)) \\\n",
    "                     for t in range(n_t)]\n",
    "\n",
    "\n",
    "###### COSTS #######\n",
    "setup_costs = solver.Sum([production_boolean[t]*setup_price \\\n",
    "                          for t in range(n_t)])\n",
    "\n",
    "inventory_costs = solver.Sum([inventory[t]*inventory_price \\\n",
    "                             for t in range(n_t)])"
   ]
  },
  {
   "cell_type": "code",
   "execution_count": null,
   "metadata": {
    "collapsed": true
   },
   "outputs": [],
   "source": []
  }
 ],
 "metadata": {
  "kernelspec": {
   "display_name": "Python [anaconda3]",
   "language": "python",
   "name": "Python [anaconda3]"
  },
  "language_info": {
   "codemirror_mode": {
    "name": "ipython",
    "version": 3
   },
   "file_extension": ".py",
   "mimetype": "text/x-python",
   "name": "python",
   "nbconvert_exporter": "python",
   "pygments_lexer": "ipython3",
   "version": "3.5.5"
  }
 },
 "nbformat": 4,
 "nbformat_minor": 2
}
